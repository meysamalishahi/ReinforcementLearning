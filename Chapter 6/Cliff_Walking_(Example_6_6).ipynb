{
  "nbformat": 4,
  "nbformat_minor": 0,
  "metadata": {
    "colab": {
      "name": "Cliff_Walking (Example 6.6).ipynb",
      "provenance": [],
      "collapsed_sections": [],
      "include_colab_link": true
    },
    "kernelspec": {
      "display_name": "Python 3",
      "language": "python",
      "name": "python3"
    },
    "language_info": {
      "codemirror_mode": {
        "name": "ipython",
        "version": 3
      },
      "file_extension": ".py",
      "mimetype": "text/x-python",
      "name": "python",
      "nbconvert_exporter": "python",
      "pygments_lexer": "ipython3",
      "version": "3.7.6"
    }
  },
  "cells": [
    {
      "cell_type": "markdown",
      "metadata": {
        "id": "view-in-github",
        "colab_type": "text"
      },
      "source": [
        "<a href=\"https://colab.research.google.com/github/meysamalishahi/ReinforcementLearning/blob/master/Chapter%206/Cliff_Walking_(Example_6_6).ipynb\" target=\"_parent\"><img src=\"https://colab.research.google.com/assets/colab-badge.svg\" alt=\"Open In Colab\"/></a>"
      ]
    },
    {
      "cell_type": "markdown",
      "metadata": {
        "id": "j0FmYvHwFVtq"
      },
      "source": [
        "## Example 6.6: Cliff Walking \n",
        "This gridworld example compares Sarsa and Q-learning, highlighting the difference between on-policy (Sarsa) and off-policy (Q-learning) methods. Consider the gridworld shown to the right. This is a standard undiscounted, episodic task, with start SaferRpath and goal states, and the usual actions causing movement up, down, Optimal path right, and left. Reward is $-1$ on all transitions except those into the region marked “The Cliff.” Stepping into this region incurs a reward of $-100$ and sends the agent instantly back to the start.\n",
        "![Cliff](https://drive.google.com/file/d/1RhWzdkd4QksTqoCT2lxOn0AdzOONxEkb/view?usp=sharing)"
      ]
    },
    {
      "cell_type": "code",
      "metadata": {
        "id": "L480AkQejpKJ",
        "outputId": "a5add29e-841e-499a-a9ef-753a197b03d3",
        "colab": {
          "base_uri": "https://localhost:8080/",
          "height": 71
        }
      },
      "source": [
        "import numpy as np\n",
        "import matplotlib.pyplot as plt\n",
        "import math\n",
        "import seaborn as sns\n",
        "import time\n",
        "\n",
        "%matplotlib inline\n",
        "from mpl_toolkits import mplot3d\n",
        "from itertools import product \n",
        "from termcolor import colored\n",
        "from matplotlib import colors"
      ],
      "execution_count": 1,
      "outputs": [
        {
          "output_type": "stream",
          "text": [
            "/usr/local/lib/python3.6/dist-packages/statsmodels/tools/_testing.py:19: FutureWarning: pandas.util.testing is deprecated. Use the functions in the public API at pandas.testing instead.\n",
            "  import pandas.util.testing as tm\n"
          ],
          "name": "stderr"
        }
      ]
    },
    {
      "cell_type": "code",
      "metadata": {
        "id": "WRomSQ5JjvQh"
      },
      "source": [
        "class Environment:\n",
        "  def __init__(self, size, startpoint, endpoint, actions, cliff_area):\n",
        "    self.m, self.n = size\n",
        "    self.actions = actions\n",
        "    self.endpoint = endpoint\n",
        "    self.startpoint = startpoint\n",
        "    self.cliff_area = cliff_area\n",
        "\n",
        "  def step(self, position, action):\n",
        "    if action not in self.actions:\n",
        "      raise Exception(\"The action (%s,%s) is not allowed!!\" %action)\n",
        "\n",
        "    reward = -1\n",
        "    Done = False\n",
        "    r, c = position\n",
        "    a, b = action\n",
        "    new_r, new_c = r-a, c+b\n",
        "\n",
        "    if (new_r, new_c) in self.cliff_area:\n",
        "      return self.startpoint, -100, False\n",
        "\n",
        "    if new_c > self.n-1:\n",
        "      new_c = self.n-1\n",
        "    elif new_c < 0:\n",
        "      new_c = 0 \n",
        "\n",
        "    if new_r > self.m - 1:\n",
        "      new_r = self.m - 1\n",
        "    elif new_r < 0:\n",
        "      new_r = 0   \n",
        "\n",
        "    if (new_r, new_c) == self.endpoint:\n",
        "      reward = 0\n",
        "      Done = True\n",
        "       \n",
        "    return (new_r, new_c), reward, Done\n"
      ],
      "execution_count": 2,
      "outputs": []
    },
    {
      "cell_type": "code",
      "metadata": {
        "id": "wh2njuNDmNDg"
      },
      "source": [
        "Arrow = {}\n",
        "Arrow[(0,0)] = '.'\n",
        "Arrow[(0,-1)] = '\\u2190' #Leftwards Arrow\n",
        "Arrow[(1,0)] = '\\u2191' #Upwards Arrow\n",
        "Arrow[(0,1)] = '\\u2192' #Rightwards Arrow\n",
        "Arrow[(-1,0)] = '\\u2193' #Downwards Arrow\n",
        "Arrow[(1,-1)] = '\\u2196' #North West Arrow\n",
        "Arrow[(1,1)] = '\\u2197' #North East Arrow\n",
        "Arrow[(-1,1)] = '\\u2198' #South East Arrow\n",
        "Arrow[(-1,-1)] = '\\u2199' #South West Arrow"
      ],
      "execution_count": 3,
      "outputs": []
    },
    {
      "cell_type": "code",
      "metadata": {
        "id": "UiXkSGAT0yXg"
      },
      "source": [
        "class CliffWalking:\n",
        "  def __init__(self, Env, n_iters = 100, n_steps =1,\n",
        "               gamma = 1, eps = .1, alpha = .1, Type =  'Sarsa'):\n",
        "    self.Type = Type\n",
        "    self.Env = Env\n",
        "    self.actions = Env.actions\n",
        "    self.behaiviar_policy = {}\n",
        "    self.Q = {}\n",
        "    for x in range(Env.m):\n",
        "      for y in range(Env.n):\n",
        "        if (x,y) != Env.endpoint and (x,y) not in self.Env.cliff_area:\n",
        "          self.behaiviar_policy[(x,y)] = [1/len(Env.actions) for _ in Env.actions]\n",
        "          self.Q[(x,y)] = {}\n",
        "          for action in Env.actions:\n",
        "            self.Q[(x,y)][action] = 0\n",
        "\n",
        "    sum_episodes_length = 0\n",
        "    t1 = t = time.time()\n",
        "    self.episode_history = []\n",
        "    \n",
        "    st = 1\n",
        "    for x in range(1, n_iters+1): \n",
        "      cnt = 0            \n",
        "      state = Env.startpoint\n",
        "      Done = False\n",
        "      SARSAlist = []\n",
        "      G = 0\n",
        "      reward = 0\n",
        "      while len(SARSAlist) < n_steps and not Done:\n",
        "        action = self.apply_behaiviar_policy(state)\n",
        "        next_state, reward, Done = Env.step(state, action)\n",
        "        SARSAlist.append((state, action, reward))\n",
        "        G += gamma**(cnt) * reward\n",
        "        state = next_state\n",
        "        cnt += 1\n",
        "        sum_episodes_length += 1\n",
        "\n",
        "      while  len(SARSAlist) > 0:                              \n",
        "        s, a, r = SARSAlist.pop(0)\n",
        "        if not Done:\n",
        "          cnt += 1\n",
        "          action = self.apply_behaiviar_policy(state)\n",
        "          next_state, reward, Done = Env.step(state, action)\n",
        "          SARSAlist.append((state, action, reward))\n",
        "          if Type == 'Sarsa':\n",
        "            temp = G + gamma**n_steps * self.Q[state][action]\n",
        "          elif Type == 'Q-learning':\n",
        "            temp = G + gamma**n_steps * max(self.Q[state].values())\n",
        "          elif Type == 'Expected-Sarsa':\n",
        "            temp = G + gamma**n_steps * self.expected_sarsa(state)\n",
        "          else:\n",
        "            raise Exception(\"Unknown Type!! Valid types are: Sarsa, Q-learning, and Expected-Sarsa.\")\n",
        "          state = next_state\n",
        "          G = (G-r)/gamma + gamma**(n_steps-1) * reward\n",
        "          sum_episodes_length += 1\n",
        "        else:\n",
        "          temp = G\n",
        "          G = (G-r)/gamma\n",
        "        self.Q[s][a] = self.Q[s][a] + alpha * (temp - self.Q[s][a])\n",
        "        self.update_behaiviar_policy(eps, state = s)\n",
        "      \n",
        "      if x % 10 == 0:\n",
        "        self.episode_history.append(sum_episodes_length/x)\n",
        "                      \n",
        "    print(colored('Ended in %s seconds', 'white', 'on_grey') %(time.time() - t))\n",
        "\n",
        "\n",
        "  def expected_sarsa(self, state):\n",
        "    P = self.behaiviar_policy[state]\n",
        "    mu = 0\n",
        "    for i, a in enumerate(self.actions):\n",
        "      mu += P[i]*self.Q[state][a]\n",
        "    return mu\n",
        "\n",
        "  def apply_behaiviar_policy(self, state):\n",
        "    probabilities = self.behaiviar_policy[state]\n",
        "    index = np.random.choice(range(len(self.actions)), p = probabilities)\n",
        "    next_action = self.actions[index]\n",
        "    return next_action\n",
        "        \n",
        "\n",
        "  def update_behaiviar_policy(self, eps, state = None):\n",
        "    if state is None:\n",
        "      States = self.states\n",
        "    else:\n",
        "      States = [state]\n",
        "    for s in States:\n",
        "      Max = max(self.Q[s].values())\n",
        "      index = np.random.choice([x for x in range(len(self.actions))\n",
        "                                if self.Q[s][self.actions[x]] >= Max])\n",
        "                    \n",
        "      best_action = self.actions[index]\n",
        "      for idx in range(len(self.actions)):\n",
        "        if best_action == self.actions[idx]:\n",
        "          self.behaiviar_policy[s][idx] = 1 - eps + eps/len(self.actions)\n",
        "        else:\n",
        "          self.behaiviar_policy[s][idx] = eps/len(self.actions) \n",
        "\n",
        "  def get_optimal_policy(self):\n",
        "    for state in self.behaiviar_policy.keys():\n",
        "      idx = np.argmax(self.behaiviar_policy[state])\n",
        "      self.target_policy[state] = self.actions[idx]\n",
        "\n",
        "  def bulid_trajectory(self, point):\n",
        "    Done = False \n",
        "    tr = []\n",
        "    state = point\n",
        "    while not Done:\n",
        "      action = self.actions[np.argmax(self.behaiviar_policy[state])]\n",
        "      tr.append((state, action))\n",
        "      state, _, Done = Env.step(state, action)\n",
        "    return tr\n",
        "\n",
        "  def plot_optimal_policy(self):\n",
        "    plt.subplots(figsize = (15,15))\n",
        "    Matrix = np.zeros((self.Env.m, self.Env.n)).astype(int)\n",
        "    Matrix[self.Env.startpoint] = 1\n",
        "    Matrix[self.Env.endpoint] = 2\n",
        "    for pos in self.Env.cliff_area:\n",
        "      Matrix[pos] = 3\n",
        "    trajectory = self.bulid_trajectory(self.Env.startpoint)\n",
        "    action_trace = {}\n",
        "    for i, point in enumerate(trajectory):\n",
        "        action_trace[point[0]] = Arrow[point[1]]\n",
        "        if point[0] != self.Env.startpoint:\n",
        "          Matrix[point[0]] = -i-1\n",
        "    show_annot_array = Matrix < 0\n",
        "    show_annot_array[self.Env.startpoint] = True\n",
        "    cmap = colors.ListedColormap(['yellow','green','blue','red' ,'black'])\n",
        "    bounds=[-100, -0.5, 0.5, 1.5, 2.5, 3.5]\n",
        "    norm = colors.BoundaryNorm(bounds, cmap.N)\n",
        "    fig = sns.heatmap(Matrix, cmap=cmap, annot=True, annot_kws={\"size\":20},\n",
        "                      linewidth=0.05, linecolor ='black', xticklabels=False, \n",
        "                      yticklabels=False, norm = norm, cbar= False, square = True )\n",
        "    fig.set_title(\"Optimal Policy: \" + self.Type , fontsize=25)\n",
        "    for text, position in zip(fig.texts, ((u,v) for u in range(self.Env.m) for v in range(self.Env.n))):\n",
        "        if self.Env.startpoint == position:\n",
        "          text.set_text(str(action_trace[position])+'\\n Start')\n",
        "        elif show_annot_array[position] == True:\n",
        "          text.set_text(str(action_trace[position])+'\\n '+ str(np.abs(Matrix[position])))\n",
        "        elif self.Env.endpoint == position:\n",
        "          text.set_text('Goal')\n",
        "          show_annot_array[position] = True\n",
        "\n",
        "        text.set_visible(show_annot_array[position])\n",
        "    \n",
        "    plt.show()\n",
        "    plt.close()    "
      ],
      "execution_count": 4,
      "outputs": []
    },
    {
      "cell_type": "markdown",
      "metadata": {
        "id": "f3YYuMhfFVuK"
      },
      "source": [
        "## Q-Learning"
      ]
    },
    {
      "cell_type": "code",
      "metadata": {
        "id": "sx6ERukomlqm",
        "outputId": "d84249ba-720c-44fc-98db-1aad2d084e82",
        "colab": {
          "base_uri": "https://localhost:8080/",
          "height": 352
        }
      },
      "source": [
        "actions=[(0,1), (1,0), (0,-1), (-1,0)]\n",
        "cliff_area = [(3,1), (3,2), (3,3), (3,4), (3,5), (3,6), (3,7), (3,8), (3,9), (3,10)]\n",
        "Env = Environment(size = (4,12), startpoint = (3,0), endpoint = (3,11), \n",
        "                 actions = actions, cliff_area = cliff_area)\n",
        "result = CliffWalking(Env = Env, eps = .3, n_iters = 500, n_steps = 1, Type = 'Q-learning')\n",
        "result.plot_optimal_policy()"
      ],
      "execution_count": 5,
      "outputs": [
        {
          "output_type": "stream",
          "text": [
            "\u001b[40m\u001b[37mEnded in 1.9267938137054443 seconds\u001b[0m\n"
          ],
          "name": "stdout"
        },
        {
          "output_type": "display_data",
          "data": {
            "image/png": "[encoded data removed]",
            "text/plain": [
              "<Figure size 1080x1080 with 1 Axes>"
            ]
          },
          "metadata": {
            "tags": []
          }
        }
      ]
    },
    {
      "cell_type": "markdown",
      "metadata": {
        "id": "i61eY4Y-FVuS"
      },
      "source": [
        "## Sarsa"
      ]
    },
    {
      "cell_type": "code",
      "metadata": {
        "id": "P_MTnFVknYqu",
        "outputId": "535e3bda-18be-42bf-d31f-b9f1af919182",
        "colab": {
          "base_uri": "https://localhost:8080/",
          "height": 352
        }
      },
      "source": [
        "actions=[(0,1), (1,0), (0,-1), (-1,0)]\n",
        "cliff_area = [(3,1), (3,2), (3,3), (3,4), (3,5), (3,6), (3,7), (3,8), (3,9), (3,10)]\n",
        "Env = Environment(size = (4,12), startpoint = (3,0), endpoint = (3,11), \n",
        "                 actions = actions, cliff_area = cliff_area)\n",
        "result = CliffWalking(Env = Env, eps= .3, alpha=.1, n_iters = 500, n_steps = 1, Type = 'Sarsa')\n",
        "result.plot_optimal_policy()"
      ],
      "execution_count": 6,
      "outputs": [
        {
          "output_type": "stream",
          "text": [
            "\u001b[40m\u001b[37mEnded in 1.2604613304138184 seconds\u001b[0m\n"
          ],
          "name": "stdout"
        },
        {
          "output_type": "display_data",
          "data": {
            "image/png": "[encoded data removed]",
            "text/plain": [
              "<Figure size 1080x1080 with 1 Axes>"
            ]
          },
          "metadata": {
            "tags": []
          }
        }
      ]
    },
    {
      "cell_type": "markdown",
      "metadata": {
        "id": "dXK3_50PusBX"
      },
      "source": [
        "## Expected-Sarsa"
      ]
    },
    {
      "cell_type": "code",
      "metadata": {
        "id": "vayG2rVaFVub",
        "outputId": "81f010cd-67c7-4f28-f17a-6eea2f4192ee",
        "colab": {
          "base_uri": "https://localhost:8080/",
          "height": 352
        }
      },
      "source": [
        "actions=[(0,1), (1,0), (0,-1), (-1,0)]\n",
        "cliff_area = [(3,1), (3,2), (3,3), (3,4), (3,5), (3,6), (3,7), (3,8), (3,9), (3,10)]\n",
        "Env = Environment(size = (4,12), startpoint = (3,0), endpoint = (3,11), \n",
        "                 actions = actions, cliff_area = cliff_area)\n",
        "result = CliffWalking(Env = Env, eps= .2, n_iters = 1000, n_steps = 1, Type = 'Expected-Sarsa')\n",
        "result.plot_optimal_policy()"
      ],
      "execution_count": 7,
      "outputs": [
        {
          "output_type": "stream",
          "text": [
            "\u001b[40m\u001b[37mEnded in 1.6402223110198975 seconds\u001b[0m\n"
          ],
          "name": "stdout"
        },
        {
          "output_type": "display_data",
          "data": {
            "image/png": "[encoded data removed]",
            "text/plain": [
              "<Figure size 1080x1080 with 1 Axes>"
            ]
          },
          "metadata": {
            "tags": []
          }
        }
      ]
    },
    {
      "cell_type": "code",
      "metadata": {
        "id": "ymFtynPCFVuk"
      },
      "source": [
        ""
      ],
      "execution_count": 7,
      "outputs": []
    }
  ]
}